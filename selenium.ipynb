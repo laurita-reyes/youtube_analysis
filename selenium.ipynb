{
 "cells": [
  {
   "cell_type": "code",
   "id": "initial_id",
   "metadata": {
    "collapsed": true,
    "ExecuteTime": {
     "end_time": "2025-07-25T22:13:14.830334Z",
     "start_time": "2025-07-25T22:13:14.825689Z"
    }
   },
   "source": [
    "import os\n",
    "import time\n",
    "from selenium import webdriver\n",
    "from selenium.webdriver.common.by import By\n",
    "\n",
    "\n",
    "BASE_DIRECTORY = os.getcwd()\n",
    "DRIVER_PATH = os.path.join(BASE_DIRECTORY,'chromedriver')\n",
    "URL = \"https://www.youtube.com/watch?v=HMka55_hPqw&t=2s\""
   ],
   "outputs": [],
   "execution_count": 15
  },
  {
   "metadata": {
    "ExecuteTime": {
     "end_time": "2025-07-25T22:13:14.848965Z",
     "start_time": "2025-07-25T22:13:14.847166Z"
    }
   },
   "cell_type": "code",
   "source": [
    "def get_text(comments):\n",
    "    for comment in comments:\n",
    "        print(comment.text)"
   ],
   "id": "46eb7aaa102ce3cd",
   "outputs": [],
   "execution_count": 16
  },
  {
   "metadata": {
    "ExecuteTime": {
     "end_time": "2025-07-25T22:13:56.755780Z",
     "start_time": "2025-07-25T22:13:35.595122Z"
    }
   },
   "cell_type": "code",
   "source": [
    "# MAIN FUNCTION\n",
    "def main():\n",
    "    try:\n",
    "        browser = webdriver.Chrome()\n",
    "        browser.get(URL)\n",
    "\n",
    "        # sleep for visibility of change\n",
    "        time.sleep(2)\n",
    "\n",
    "    # scrolling down slowly\n",
    "        stopScrolling = 0\n",
    "        while True:\n",
    "            stopScrolling += 1\n",
    "            c = browser.find_elements(By.ID, \"content-text\")\n",
    "            # could probably raise this scroll number\n",
    "            # look into possible user agents or ways to avoid getting rate limited\n",
    "            browser.execute_script(\"window.scrollBy(0,80)\")\n",
    "\n",
    "            time.sleep(0.5)\n",
    "\n",
    "            if stopScrolling > 8:\n",
    "                # placed here so we can just go through the entire elements list instead of reprinting each iteration\n",
    "                get_text(c)\n",
    "                break\n",
    "            time.sleep(3)\n",
    "    finally:\n",
    "        browser.quit()\n",
    "if __name__ == \"__main__\":\n",
    "    main()"
   ],
   "id": "a85a95ef945798a9",
   "outputs": [
    {
     "ename": "KeyboardInterrupt",
     "evalue": "",
     "output_type": "error",
     "traceback": [
      "\u001B[31m---------------------------------------------------------------------------\u001B[39m",
      "\u001B[31mKeyboardInterrupt\u001B[39m                         Traceback (most recent call last)",
      "\u001B[36mCell\u001B[39m\u001B[36m \u001B[39m\u001B[32mIn[18]\u001B[39m\u001B[32m, line 29\u001B[39m\n\u001B[32m     27\u001B[39m         browser.quit()\n\u001B[32m     28\u001B[39m \u001B[38;5;28;01mif\u001B[39;00m \u001B[34m__name__\u001B[39m == \u001B[33m\"\u001B[39m\u001B[33m__main__\u001B[39m\u001B[33m\"\u001B[39m:\n\u001B[32m---> \u001B[39m\u001B[32m29\u001B[39m     \u001B[43mmain\u001B[49m\u001B[43m(\u001B[49m\u001B[43m)\u001B[49m\n",
      "\u001B[36mCell\u001B[39m\u001B[36m \u001B[39m\u001B[32mIn[18]\u001B[39m\u001B[32m, line 25\u001B[39m, in \u001B[36mmain\u001B[39m\u001B[34m()\u001B[39m\n\u001B[32m     23\u001B[39m             get_text(c)\n\u001B[32m     24\u001B[39m             \u001B[38;5;28;01mbreak\u001B[39;00m\n\u001B[32m---> \u001B[39m\u001B[32m25\u001B[39m         \u001B[43mtime\u001B[49m\u001B[43m.\u001B[49m\u001B[43msleep\u001B[49m\u001B[43m(\u001B[49m\u001B[32;43m3\u001B[39;49m\u001B[43m)\u001B[49m\n\u001B[32m     26\u001B[39m \u001B[38;5;28;01mfinally\u001B[39;00m:\n\u001B[32m     27\u001B[39m     browser.quit()\n",
      "\u001B[31mKeyboardInterrupt\u001B[39m: "
     ]
    }
   ],
   "execution_count": 18
  }
 ],
 "metadata": {
  "kernelspec": {
   "display_name": "Python 3",
   "language": "python",
   "name": "python3"
  },
  "language_info": {
   "codemirror_mode": {
    "name": "ipython",
    "version": 2
   },
   "file_extension": ".py",
   "mimetype": "text/x-python",
   "name": "python",
   "nbconvert_exporter": "python",
   "pygments_lexer": "ipython2",
   "version": "2.7.6"
  }
 },
 "nbformat": 4,
 "nbformat_minor": 5
}
