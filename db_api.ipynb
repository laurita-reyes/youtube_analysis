{
 "cells": [
  {
   "cell_type": "code",
   "execution_count": 16,
   "id": "8a2c09a2",
   "metadata": {},
   "outputs": [],
   "source": [
    "import sqlite3\n",
    "import pandas as pd\n",
    "import YouTube_API\n",
    "from rich import print"
   ]
  },
  {
   "cell_type": "code",
   "execution_count": null,
   "id": "4797da9d",
   "metadata": {},
   "outputs": [],
   "source": [
    "# initialize database and create datatable.\n",
    "def init_database():\n",
    "    conn = sqlite3.connect(\"comments_db.sqlite\")\n",
    "    c = conn.cursor()\n",
    "\n",
    "    # create table in db\n",
    "    query = \"\"\"CREATE TABLE IF NOT EXISTS Comments(id, username, text_original, text_display, viewer_rating, like_count, published_at)\"\"\"\n",
    "    c.execute(query)"
   ]
  },
  {
   "cell_type": "code",
   "execution_count": 17,
   "id": "f63f6663",
   "metadata": {},
   "outputs": [],
   "source": [
    "def insert(data, con):\n",
    "    stmt = \"INSERT INTO Comments VALUES(?,?,?,?,?,?,?)\"\n",
    "    con.execute(stmt)"
   ]
  },
  {
   "cell_type": "code",
   "execution_count": 18,
   "id": "af25f149",
   "metadata": {},
   "outputs": [
    {
     "ename": "TypeError",
     "evalue": "make_request() takes 1 positional argument but 2 were given",
     "output_type": "error",
     "traceback": [
      "\u001b[31m---------------------------------------------------------------------------\u001b[39m",
      "\u001b[31mTypeError\u001b[39m                                 Traceback (most recent call last)",
      "\u001b[36mCell\u001b[39m\u001b[36m \u001b[39m\u001b[32mIn[18]\u001b[39m\u001b[32m, line 33\u001b[39m\n\u001b[32m     29\u001b[39m     \u001b[38;5;28mprint\u001b[39m(comments)\n\u001b[32m     32\u001b[39m \u001b[38;5;28;01mif\u001b[39;00m \u001b[34m__name__\u001b[39m == \u001b[33m\"\u001b[39m\u001b[33m__main__\u001b[39m\u001b[33m\"\u001b[39m:\n\u001b[32m---> \u001b[39m\u001b[32m33\u001b[39m     \u001b[43mmain\u001b[49m\u001b[43m(\u001b[49m\u001b[43m)\u001b[49m\n",
      "\u001b[36mCell\u001b[39m\u001b[36m \u001b[39m\u001b[32mIn[18]\u001b[39m\u001b[32m, line 7\u001b[39m, in \u001b[36mmain\u001b[39m\u001b[34m()\u001b[39m\n\u001b[32m      4\u001b[39m pageToken = \u001b[33m\"\u001b[39m\u001b[33m\"\u001b[39m\n\u001b[32m      5\u001b[39m \u001b[38;5;66;03m# make call to YouTube Data API\u001b[39;00m\n\u001b[32m----> \u001b[39m\u001b[32m7\u001b[39m response_dicts = \u001b[43mYouTube_API\u001b[49m\u001b[43m.\u001b[49m\u001b[43mmake_request\u001b[49m\u001b[43m(\u001b[49m\n\u001b[32m      8\u001b[39m \u001b[43m    \u001b[49m\u001b[43mvideoId\u001b[49m\u001b[43m,\u001b[49m\u001b[43m \u001b[49m\u001b[43mpageToken\u001b[49m\u001b[43m)\u001b[49m\n\u001b[32m     10\u001b[39m pageInfo = response_dicts[\u001b[33m'\u001b[39m\u001b[33mpageInfo\u001b[39m\u001b[33m'\u001b[39m]\n\u001b[32m     11\u001b[39m nextPageToken = response_dicts[\u001b[33m'\u001b[39m\u001b[33mnextPageToken\u001b[39m\u001b[33m'\u001b[39m]\n",
      "\u001b[31mTypeError\u001b[39m: make_request() takes 1 positional argument but 2 were given"
     ]
    }
   ],
   "source": [
    "def main():\n",
    "\n",
    "    videoId = 'HMka55_hPqw'\n",
    "    pageToken = \"\"\n",
    "    # make call to YouTube Data API\n",
    "\n",
    "    response_dicts = YouTube_API.make_request(\n",
    "        videoId, pageToken)\n",
    "\n",
    "    pageInfo = response_dicts['pageInfo']\n",
    "    nextPageToken = response_dicts['nextPageToken']\n",
    "    pageToken = nextPageToken\n",
    "\n",
    "    print(f\"nextPageToken:{nextPageToken}\")\n",
    "    print(f\"{pageInfo['totalResults']}\")\n",
    "    print(f\"{pageInfo['resultsPerPage']}\")\n",
    "\n",
    "    # check if nextPageToken is not an empty string\n",
    "    if pageToken != \"\":\n",
    "        # not sure if this works yet\n",
    "        print(\"Detected Page Token...\")\n",
    "        print(\"making request...\")\n",
    "        YouTube_API.make_request(videoId=videoId, pageToken=pageToken)\n",
    "\n",
    "    # YouTube_API.make_request(videoId=videoId, pageToken=pageToken)\n",
    "\n",
    "    # use API response to get comments\n",
    "    comments = YouTube_API.get_comments(response_dicts)\n",
    "    print(comments)\n",
    "\n",
    "\n",
    "if __name__ == \"__main__\":\n",
    "    main()"
   ]
  },
  {
   "cell_type": "code",
   "execution_count": 4,
   "id": "ef4a698e",
   "metadata": {},
   "outputs": [],
   "source": [
    "# initialize database and create table\n",
    "init_database()"
   ]
  }
 ],
 "metadata": {
  "kernelspec": {
   "display_name": ".venv",
   "language": "python",
   "name": "python3"
  },
  "language_info": {
   "codemirror_mode": {
    "name": "ipython",
    "version": 3
   },
   "file_extension": ".py",
   "mimetype": "text/x-python",
   "name": "python",
   "nbconvert_exporter": "python",
   "pygments_lexer": "ipython3",
   "version": "3.13.5"
  }
 },
 "nbformat": 4,
 "nbformat_minor": 5
}
