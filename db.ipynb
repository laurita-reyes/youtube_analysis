{
 "cells": [
  {
   "cell_type": "code",
   "execution_count": 2,
   "id": "8a2c09a2",
   "metadata": {},
   "outputs": [],
   "source": [
    "import sqlite3\n",
    "import pandas as pd"
   ]
  },
  {
   "cell_type": "code",
   "execution_count": null,
   "id": "4797da9d",
   "metadata": {},
   "outputs": [],
   "source": [
    "# initialize database and create datatable.\n",
    "def init_database():\n",
    "    conn = sqlite3.connect(\"comments_db.sqlite\")\n",
    "    c = conn.cursor()\n",
    "\n",
    "    # create table in db\n",
    "    query = \"\"\"CREATE TABLE IF NOT EXISTS Comments(id, username, text_original, text_display, viewer_rating, like_count, published_at)\"\"\"\n",
    "    c.execute(query)"
   ]
  },
  {
   "cell_type": "code",
   "execution_count": null,
   "id": "f63f6663",
   "metadata": {},
   "outputs": [],
   "source": [
    "def insert(data, con):\n",
    "    stmt = \"INSERT INTO Comments VALUES(?,?,?,?,?,?,?)\"\n",
    "    con.execute(stmt)"
   ]
  },
  {
   "cell_type": "code",
   "execution_count": 4,
   "id": "ef4a698e",
   "metadata": {},
   "outputs": [],
   "source": [
    "# initialize database and create table\n",
    "init_database()"
   ]
  }
 ],
 "metadata": {
  "kernelspec": {
   "display_name": ".venv",
   "language": "python",
   "name": "python3"
  },
  "language_info": {
   "codemirror_mode": {
    "name": "ipython",
    "version": 3
   },
   "file_extension": ".py",
   "mimetype": "text/x-python",
   "name": "python",
   "nbconvert_exporter": "python",
   "pygments_lexer": "ipython3",
   "version": "3.13.5"
  }
 },
 "nbformat": 4,
 "nbformat_minor": 5
}
